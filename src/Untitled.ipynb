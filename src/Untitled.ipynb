{
 "cells": [
  {
   "cell_type": "code",
   "execution_count": 60,
   "id": "blessed-missile",
   "metadata": {},
   "outputs": [
    {
     "data": {
      "text/plain": [
       "(array([781607.,   7127.,  45490.,  90446.,  19416., 217693.,  86609.,\n",
       "         29444.,  15471., 443474.]),\n",
       " array([  0.,  10.,  20.,  30.,  40.,  50.,  60.,  70.,  80.,  90., 100.]),\n",
       " <BarContainer object of 10 artists>)"
      ]
     },
     "execution_count": 60,
     "metadata": {},
     "output_type": "execute_result"
    },
    {
     "data": {
      "image/png": "[encoded data removed]",
      "text/plain": [
       "<Figure size 432x288 with 1 Axes>"
      ]
     },
     "metadata": {
      "needs_background": "light"
     },
     "output_type": "display_data"
    }
   ],
   "source": [
    "A = np.loadtxt('s_8_cell.deduplicated.bismark.cov', skiprows=1, usecols=(3))\n",
    "plt.hist(A)"
   ]
  },
  {
   "cell_type": "code",
   "execution_count": 55,
   "id": "departmental-forth",
   "metadata": {},
   "outputs": [],
   "source": [
    "A = np.loadtxt('s_ICM.deduplicated.bismark.cov', skiprows=1, usecols=(3))"
   ]
  },
  {
   "cell_type": "code",
   "execution_count": 57,
   "id": "electrical-zimbabwe",
   "metadata": {},
   "outputs": [
    {
     "data": {
      "text/plain": [
       "(array([1286063.,   49797.,  144149.,  135917.,   39095.,  177734.,\n",
       "          68210.,   21732.,    9936.,  121193.]),\n",
       " array([  0.,  10.,  20.,  30.,  40.,  50.,  60.,  70.,  80.,  90., 100.]),\n",
       " <BarContainer object of 10 artists>)"
      ]
     },
     "execution_count": 57,
     "metadata": {},
     "output_type": "execute_result"
    },
    {
     "data": {
      "image/png": "[encoded data removed]",
      "text/plain": [
       "<Figure size 432x288 with 1 Axes>"
      ]
     },
     "metadata": {
      "needs_background": "light"
     },
     "output_type": "display_data"
    }
   ],
   "source": [
    "plt.hist(A)"
   ]
  },
  {
   "cell_type": "code",
   "execution_count": 58,
   "id": "cognitive-lindsay",
   "metadata": {},
   "outputs": [],
   "source": [
    "A = np.loadtxt('s_epiblast.deduplicated.bismark.cov', skiprows=1, usecols=(3))"
   ]
  },
  {
   "cell_type": "code",
   "execution_count": 59,
   "id": "defensive-cologne",
   "metadata": {},
   "outputs": [
    {
     "data": {
      "text/plain": [
       "(array([ 274205.,   16369.,   33140.,   37729.,   25756.,  116915.,\n",
       "         162243.,  167456.,  326435., 1089361.]),\n",
       " array([  0.,  10.,  20.,  30.,  40.,  50.,  60.,  70.,  80.,  90., 100.]),\n",
       " <BarContainer object of 10 artists>)"
      ]
     },
     "execution_count": 59,
     "metadata": {},
     "output_type": "execute_result"
    },
    {
     "data": {
      "image/png": "[encoded data removed]",
      "text/plain": [
       "<Figure size 432x288 with 1 Axes>"
      ]
     },
     "metadata": {
      "needs_background": "light"
     },
     "output_type": "display_data"
    }
   ],
   "source": [
    "plt.hist(A)"
   ]
  },
  {
   "cell_type": "code",
   "execution_count": null,
   "id": "hourly-porcelain",
   "metadata": {},
   "outputs": [],
   "source": []
  }
 ],
 "metadata": {
  "kernelspec": {
   "display_name": "Python 3",
   "language": "python",
   "name": "python3"
  },
  "language_info": {
   "codemirror_mode": {
    "name": "ipython",
    "version": 3
   },
   "file_extension": ".py",
   "mimetype": "text/x-python",
   "name": "python",
   "nbconvert_exporter": "python",
   "pygments_lexer": "ipython3",
   "version": "3.9.2"
  }
 },
 "nbformat": 4,
 "nbformat_minor": 5
}
